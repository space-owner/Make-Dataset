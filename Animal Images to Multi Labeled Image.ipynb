{
  "nbformat": 4,
  "nbformat_minor": 0,
  "metadata": {
    "colab": {
      "name": "Animal Images to Multi Labeled Image.ipynb",
      "provenance": [],
      "collapsed_sections": [],
      "authorship_tag": "ABX9TyPcOBrAUy2vPg9iJSuNZR+w",
      "include_colab_link": true
    },
    "kernelspec": {
      "name": "python3",
      "display_name": "Python 3"
    },
    "language_info": {
      "name": "python"
    }
  },
  "cells": [
    {
      "cell_type": "markdown",
      "metadata": {
        "id": "view-in-github",
        "colab_type": "text"
      },
      "source": [
        "<a href=\"https://colab.research.google.com/github/space-owner/Make-Dataset/blob/main/Animal%20Images%20to%20Multi%20Labeled%20Image.ipynb\" target=\"_parent\"><img src=\"https://colab.research.google.com/assets/colab-badge.svg\" alt=\"Open In Colab\"/></a>"
      ]
    },
    {
      "cell_type": "code",
      "metadata": {
        "id": "69ji3BqEIDn7"
      },
      "source": [
        "import cv2\n",
        "import os\n",
        "import numpy as np\n",
        "import pandas as pd\n",
        "import matplotlib.pyplot as plt\n",
        "from imutils import paths\n",
        "from tqdm import tqdm\n",
        "\n",
        "from sklearn.preprocessing import MultiLabelBinarizer\n",
        "from tensorflow.keras.preprocessing import image_dataset_from_directory"
      ],
      "execution_count": null,
      "outputs": []
    },
    {
      "cell_type": "code",
      "metadata": {
        "colab": {
          "base_uri": "https://localhost:8080/"
        },
        "id": "Re99poWJshX5",
        "outputId": "1acb46d2-ebc7-4c40-d951-13570201cafa"
      },
      "source": [
        "search_dir = \"data/animals\"\n",
        "\n",
        "image_paths = sorted(\n",
        "    list(paths.list_images(search_dir))\n",
        ")\n",
        "\n",
        "print(\">>> image count =\", len(image_paths))"
      ],
      "execution_count": null,
      "outputs": [
        {
          "output_type": "stream",
          "name": "stdout",
          "text": [
            ">>> image count = 3000\n"
          ]
        }
      ]
    },
    {
      "cell_type": "code",
      "metadata": {
        "colab": {
          "base_uri": "https://localhost:8080/"
        },
        "id": "VS-S5X00XYxY",
        "outputId": "5fbd2af5-b91c-4e89-b4c8-b698ac4c68ba"
      },
      "source": [
        "images = []\n",
        "labels = []\n",
        "for image_path in tqdm(image_paths):\n",
        "    image = cv2.imread(image_path)\n",
        "\n",
        "    image = cv2.resize(\n",
        "        image, (180, 180)\n",
        "    )\n",
        "    image = cv2.cvtColor(\n",
        "        image, cv2.COLOR_BGR2RGB\n",
        "    )\n",
        "\n",
        "    images.append(image)\n",
        "\n",
        "    label = image_path.split(os.path.sep)[-2]\n",
        "    labels.append([label])\n",
        "\n",
        "images = np.array(images)\n",
        "\n",
        "labels = np.array(labels)\n",
        "\n",
        "print(\">>> images count =\", len(images))"
      ],
      "execution_count": null,
      "outputs": [
        {
          "output_type": "stream",
          "name": "stderr",
          "text": [
            "100%|██████████| 3000/3000 [00:22<00:00, 134.19it/s]\n"
          ]
        },
        {
          "output_type": "stream",
          "name": "stdout",
          "text": [
            ">>> images count = 3000\n"
          ]
        }
      ]
    },
    {
      "cell_type": "code",
      "metadata": {
        "id": "LW9KLM6Ctp9V"
      },
      "source": [
        "save_path = \"data/multi_animals/\"\n",
        "\n",
        "label_dframe = pd.DataFrame(\n",
        "    columns=['file_name', 'label_name']\n",
        ")\n",
        "\n",
        "for i in tqdm(range(0, 5000)):\n",
        "    fig = plt.figure(facecolor='white')\n",
        "    \n",
        "    label_name = ''\n",
        "    for j in range(1, 4):\n",
        "        ax = plt.subplot(1, 3, j)\n",
        "        ax.set_axis_off()\n",
        "        index = np.random.randint(0, 3000)\n",
        "            \n",
        "        label_name += labels[index][0]\n",
        "        if j != 3:\n",
        "            label_name += ', '\n",
        "    \n",
        "    fig.subplots_adjust(wspace=0, hspace=0)\n",
        "    \n",
        "    file_name = \"%d\" % i + \".png\"\n",
        "\n",
        "    plt.savefig(save_path + file_name, bbox_inches='tight', pad_inches=0)\n",
        "    \n",
        "    label_dframe = label_dframe.append(\n",
        "        {\"file_name\":  file_name, \"label_name\": label_name},\n",
        "        ignore_index=True\n",
        "    )\n",
        "\n",
        "label_dframe.to_csv(save_path + \"labels.csv\", header=True, index=False)"
      ],
      "execution_count": null,
      "outputs": []
    }
  ]
}